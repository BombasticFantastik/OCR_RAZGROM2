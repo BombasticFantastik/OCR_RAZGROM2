{
 "cells": [
  {
   "cell_type": "code",
   "execution_count": 107,
   "id": "1ce20e74-f215-49a5-8bc6-5fef42edd30b",
   "metadata": {},
   "outputs": [],
   "source": [
    "import PIL.Image as Image\n",
    "from Dataset import Images_Dataset,TestImages_Dataset\n",
    "from Dataset import Images_Dataset\n",
    "from Model import CRNN\n",
    "from Loop import train_loop\n",
    "from torch.utils.data import DataLoader\n",
    "import yaml\n",
    "import torch.nn as nn \n",
    "import os\n",
    "import torch\n",
    "from torchvision import transforms\n",
    "import torch.optim as optim\n",
    "import json\n",
    "\n",
    "from torch.utils.data import Dataset\n",
    "from os import listdir\n",
    "from os.path import join\n",
    "from PIL import Image\n",
    "from torchvision import transforms\n",
    "from torch import tensor\n",
    "import json\n",
    "import matplotlib.pyplot as plt\n",
    "\n",
    "\n"
   ]
  },
  {
   "cell_type": "code",
   "execution_count": 108,
   "id": "c64a3944-8ba1-4dbf-b800-ab05a3b34f0e",
   "metadata": {},
   "outputs": [],
   "source": [
    "\n",
    "json_path='vocab/vocab.json'\n",
    "with open(json_path,'r') as file_option:\n",
    "    vocab=json.load(file_option)\n",
    "let2int=vocab['let2int']\n",
    "int2let=vocab['int2let']\n",
    "\n",
    "\n",
    "\n"
   ]
  },
  {
   "cell_type": "code",
   "execution_count": 120,
   "id": "c329ff16-5df9-4ef4-943d-4c49a565a14c",
   "metadata": {},
   "outputs": [],
   "source": [
    "class TestImages_Dataset2(Dataset):\n",
    "    def __init__(self,\n",
    "                path,\n",
    "                transforms=transforms.Compose([\n",
    "        transforms.Resize((256,256))\n",
    "        ,transforms.ToTensor()\n",
    "        ])\n",
    "        \n",
    "        ):\n",
    "        super(TestImages_Dataset2,self).__init__()\n",
    "        self.data_path=path\n",
    "        self.image_transforms=transforms\n",
    "\n",
    "        self.all_data=[join(self.data_path,item) for item in listdir(self.data_path)]\n",
    "        print(self.all_data)\n",
    "\n",
    "\n",
    "        json_path='vocab/vocab.json'\n",
    "        with open(json_path,'r') as file_option:\n",
    "            vocab=json.load(file_option)\n",
    "        self.let2int=vocab['let2int']\n",
    "        self.int2let=vocab['int2let']\n",
    "\n",
    "\n",
    "    def __len__(self):\n",
    "        return len(self.all_data)\n",
    "\n",
    "    def __getitem__(self, idx):\n",
    "        return {\n",
    "            \"img\":self.image_transforms(Image.open(self.all_data[idx])),\n",
    "            #'label':tensor([self.let2int[let] for let in self.all_data[idx].split('_')[0]])\n",
    "        }\n",
    "        \n",
    "\n",
    "\n",
    "\n",
    "\n",
    "\n",
    "\n"
   ]
  },
  {
   "cell_type": "code",
   "execution_count": 121,
   "id": "df3d0b02-3624-4975-a689-e28a2a402200",
   "metadata": {},
   "outputs": [],
   "source": [
    "option_path='config.yml'\n",
    "with open(option_path,'r') as file_option:\n",
    "    option=yaml.safe_load(file_option)\n",
    "\n",
    "device=option['device']\n",
    "#trans=transforms=transforms.Compose([transforms.Resize((256,512)),transforms.ToTensor()])\n"
   ]
  },
  {
   "cell_type": "code",
   "execution_count": 122,
   "id": "bb235ec3-214f-4113-a51a-188af10bc69d",
   "metadata": {},
   "outputs": [
    {
     "name": "stdout",
     "output_type": "stream",
     "text": [
      "['test_for_for/tst.jpg']\n"
     ]
    }
   ],
   "source": [
    "dat=TestImages_Dataset2('test_for_for')\n",
    "dataloader=DataLoader(dat,batch_size=1)"
   ]
  },
  {
   "cell_type": "code",
   "execution_count": 123,
   "id": "7989e5f7-9b43-4749-9df8-f2a2fc0f7219",
   "metadata": {},
   "outputs": [
    {
     "data": {
      "text/plain": [
       "torch.Size([3, 256, 256])"
      ]
     },
     "execution_count": 123,
     "metadata": {},
     "output_type": "execute_result"
    }
   ],
   "source": [
    "dat[0]['img'].shape"
   ]
  },
  {
   "cell_type": "code",
   "execution_count": 117,
   "id": "622cd516-71aa-4b6d-8a44-8ddb915e2e9c",
   "metadata": {},
   "outputs": [],
   "source": [
    "model=CRNN(3,64,33).to('cpu')"
   ]
  },
  {
   "cell_type": "code",
   "execution_count": 134,
   "id": "fe69d383-2764-4ecb-a184-79a8ff7f0c59",
   "metadata": {},
   "outputs": [],
   "source": [
    "if f'model_weights.pth' in os.listdir('weights'):\n",
    "    weights_dict=torch.load(f'weights/model_weights.pth',weights_only=True)\n",
    "    model.load_state_dict(weights_dict)\n",
    "else:\n",
    "    print(1)"
   ]
  },
  {
   "cell_type": "code",
   "execution_count": 146,
   "id": "5da2eb43-8662-470a-8fdc-dd9b838d801d",
   "metadata": {},
   "outputs": [
    {
     "data": {
      "text/plain": [
       "CRNN(\n",
       "  (cnn_lay0): Sequential(\n",
       "    (0): Conv2d(3, 64, kernel_size=(3, 3), stride=(2, 2), padding=(1, 1))\n",
       "    (1): ReLU()\n",
       "    (2): BatchNorm2d(64, eps=1e-05, momentum=0.1, affine=True, track_running_stats=True)\n",
       "    (3): MaxPool2d(kernel_size=(2, 1), stride=(2, 1), padding=0, dilation=1, ceil_mode=False)\n",
       "  )\n",
       "  (cnn_lay1): Sequential(\n",
       "    (0): Conv2d(64, 128, kernel_size=(3, 3), stride=(2, 2), padding=(1, 1))\n",
       "    (1): ReLU()\n",
       "    (2): BatchNorm2d(128, eps=1e-05, momentum=0.1, affine=True, track_running_stats=True)\n",
       "    (3): MaxPool2d(kernel_size=(2, 1), stride=(2, 1), padding=0, dilation=1, ceil_mode=False)\n",
       "  )\n",
       "  (cnn_lay2): Sequential(\n",
       "    (0): Conv2d(128, 256, kernel_size=(3, 3), stride=(2, 2), padding=(1, 1))\n",
       "    (1): ReLU()\n",
       "    (2): BatchNorm2d(256, eps=1e-05, momentum=0.1, affine=True, track_running_stats=True)\n",
       "    (3): MaxPool2d(kernel_size=(2, 1), stride=(2, 1), padding=0, dilation=1, ceil_mode=False)\n",
       "  )\n",
       "  (cnn_lay3): Sequential(\n",
       "    (0): Conv2d(256, 512, kernel_size=(3, 3), stride=(1, 1), padding=(1, 1))\n",
       "    (1): ReLU()\n",
       "    (2): BatchNorm2d(512, eps=1e-05, momentum=0.1, affine=True, track_running_stats=True)\n",
       "    (3): MaxPool2d(kernel_size=(2, 1), stride=(2, 1), padding=0, dilation=1, ceil_mode=False)\n",
       "  )\n",
       "  (cnn_lay4): Sequential(\n",
       "    (0): Conv2d(512, 1024, kernel_size=(3, 3), stride=(1, 1), padding=(1, 1))\n",
       "    (1): ReLU()\n",
       "    (2): BatchNorm2d(1024, eps=1e-05, momentum=0.1, affine=True, track_running_stats=True)\n",
       "    (3): MaxPool2d(kernel_size=(2, 1), stride=(2, 1), padding=0, dilation=1, ceil_mode=False)\n",
       "  )\n",
       "  (rec_part): LSTM(1024, 256, bidirectional=True)\n",
       "  (dropaut): Dropout(p=0.1, inplace=False)\n",
       "  (fin_lin): Linear(in_features=512, out_features=34, bias=True)\n",
       ")"
      ]
     },
     "execution_count": 146,
     "metadata": {},
     "output_type": "execute_result"
    }
   ],
   "source": [
    "model.train()"
   ]
  },
  {
   "cell_type": "code",
   "execution_count": 147,
   "id": "e9db0708-a95d-43b3-95c4-a8b84feb3e3e",
   "metadata": {},
   "outputs": [
    {
     "name": "stdout",
     "output_type": "stream",
     "text": [
      "пжэхрэ  \n"
     ]
    }
   ],
   "source": [
    "for batch in dataloader:\n",
    "    pred=model(batch['img'])\n",
    "    pred=torch.log_softmax(pred,dim=2)\n",
    "    T = pred.size(0)\n",
    "    \n",
    "    N = pred.size(1)\n",
    "    input_lengths = torch.full(size=(N,), fill_value=T, dtype=torch.int32)\n",
    "    target_lengths = torch.full(size=(N,), fill_value=5, dtype=torch.int32)\n",
    "    result=[int2let[str(i.item())] for i in pred.max(2)[1].transpose(1,0)[0]]\n",
    "    result=''.join(result)\n",
    "    # for i in range(len(result)):\n",
    "    #     if result[0]==' ':\n",
    "    #         result=result[1:]\n",
    "    result=result.replace('     ','7&7')\n",
    "    for i in range(len(result)):\n",
    "        result=result.replace(' ','')\n",
    "    result=result.replace('7&7',' ')\n",
    "    if result[0]==' ':\n",
    "        result=result[1:]\n",
    "    print(result)"
   ]
  },
  {
   "cell_type": "code",
   "execution_count": null,
   "id": "2c86540e-a757-4850-b57d-9da81268e7d0",
   "metadata": {},
   "outputs": [],
   "source": []
  }
 ],
 "metadata": {
  "kernelspec": {
   "display_name": "Python 3 (ipykernel)",
   "language": "python",
   "name": "python3"
  },
  "language_info": {
   "codemirror_mode": {
    "name": "ipython",
    "version": 3
   },
   "file_extension": ".py",
   "mimetype": "text/x-python",
   "name": "python",
   "nbconvert_exporter": "python",
   "pygments_lexer": "ipython3",
   "version": "3.13.3"
  }
 },
 "nbformat": 4,
 "nbformat_minor": 5
}
