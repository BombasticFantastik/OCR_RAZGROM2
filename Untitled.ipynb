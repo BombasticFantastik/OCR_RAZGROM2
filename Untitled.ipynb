{
 "cells": [
  {
   "cell_type": "code",
   "execution_count": 37,
   "id": "5fd2ff2c-40c2-4586-9e03-a4f81fcd6d77",
   "metadata": {},
   "outputs": [],
   "source": [
    "a='qweqweqwewqe'"
   ]
  },
  {
   "cell_type": "code",
   "execution_count": 38,
   "id": "43a521bc-bf29-458c-8f83-3269efc53926",
   "metadata": {},
   "outputs": [
    {
     "data": {
      "text/plain": [
       "['qweqweqwewqe']"
      ]
     },
     "execution_count": 38,
     "metadata": {},
     "output_type": "execute_result"
    }
   ],
   "source": [
    "a.split()"
   ]
  },
  {
   "cell_type": "code",
   "execution_count": null,
   "id": "38645387-4c7d-4027-8352-a5272d883968",
   "metadata": {},
   "outputs": [],
   "source": []
  }
 ],
 "metadata": {
  "kernelspec": {
   "display_name": "Python 3 (ipykernel)",
   "language": "python",
   "name": "python3"
  },
  "language_info": {
   "codemirror_mode": {
    "name": "ipython",
    "version": 3
   },
   "file_extension": ".py",
   "mimetype": "text/x-python",
   "name": "python",
   "nbconvert_exporter": "python",
   "pygments_lexer": "ipython3",
   "version": "3.13.3"
  }
 },
 "nbformat": 4,
 "nbformat_minor": 5
}
