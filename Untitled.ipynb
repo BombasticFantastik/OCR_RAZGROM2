{
 "cells": [
  {
   "cell_type": "code",
   "execution_count": 28,
   "id": "08fbe685-b2de-409f-8860-2d5bdbfd3e31",
   "metadata": {},
   "outputs": [],
   "source": [
    "import torch\n",
    "from torch.utils.data import Dataset\n",
    "from os import listdir\n",
    "from os.path import join\n",
    "from torchvision import transforms\n",
    "from PIL import Image\n",
    "from torch import tensor\n",
    "import json\n",
    "import matplotlib.pyplot as plt"
   ]
  },
  {
   "cell_type": "code",
   "execution_count": 49,
   "id": "9ae47a4b-103d-40c2-9d3f-415346ceb60f",
   "metadata": {},
   "outputs": [],
   "source": [
    "class Images_Dataset(Dataset):\n",
    "    def __init__(self,\n",
    "                path,\n",
    "                transforms=transforms.Compose([\n",
    "        transforms.Resize((256,512))\n",
    "        ,transforms.ToTensor()\n",
    "        ])\n",
    "        \n",
    "        ):\n",
    "        super(Images_Dataset,self).__init__()\n",
    "        self.data_path=path\n",
    "        self.image_transforms=transforms\n",
    "\n",
    "        self.all_data=[join(self.data_path,item) for item in listdir(self.data_path)]\n",
    "\n",
    "\n",
    "        json_path='vocab/vocab.json'\n",
    "        with open(json_path,'r') as file_option:\n",
    "            vocab=json.load(file_option)\n",
    "        self.let2int=vocab['let2int']\n",
    "        self.int2let=vocab['int2let']\n",
    "\n",
    "\n",
    "    def __len__(self):\n",
    "        return len(self.all_data)\n",
    "\n",
    "    def __getitem__(self, idx):\n",
    "        print(1)\n",
    "        return {\n",
    "            \"img\":self.image_transforms(Image.open(self.all_data[idx])),\n",
    "            'label':tensor([self.let2int[let] for let in self.all_data[idx].split('_')[0].replace('Test/','')])\n",
    "        }\n",
    "        \n",
    "\n",
    "\n",
    "\n",
    "\n"
   ]
  },
  {
   "cell_type": "code",
   "execution_count": 50,
   "id": "38f3b76c-bafd-45bd-a596-320160d82240",
   "metadata": {},
   "outputs": [],
   "source": [
    "train_dataset=Images_Dataset('Test')"
   ]
  },
  {
   "cell_type": "code",
   "execution_count": 53,
   "id": "1d0a0e78-fcb0-4e91-89e3-80635728067b",
   "metadata": {},
   "outputs": [
    {
     "name": "stdout",
     "output_type": "stream",
     "text": [
      "1\n"
     ]
    },
    {
     "data": {
      "text/plain": [
       "{'img': tensor([[[1., 1., 1.,  ..., 1., 1., 1.],\n",
       "          [1., 1., 1.,  ..., 1., 1., 1.],\n",
       "          [1., 1., 1.,  ..., 1., 1., 1.],\n",
       "          ...,\n",
       "          [1., 1., 1.,  ..., 1., 1., 1.],\n",
       "          [1., 1., 1.,  ..., 1., 1., 1.],\n",
       "          [1., 1., 1.,  ..., 1., 1., 1.]],\n",
       " \n",
       "         [[1., 1., 1.,  ..., 1., 1., 1.],\n",
       "          [1., 1., 1.,  ..., 1., 1., 1.],\n",
       "          [1., 1., 1.,  ..., 1., 1., 1.],\n",
       "          ...,\n",
       "          [1., 1., 1.,  ..., 1., 1., 1.],\n",
       "          [1., 1., 1.,  ..., 1., 1., 1.],\n",
       "          [1., 1., 1.,  ..., 1., 1., 1.]],\n",
       " \n",
       "         [[1., 1., 1.,  ..., 1., 1., 1.],\n",
       "          [1., 1., 1.,  ..., 1., 1., 1.],\n",
       "          [1., 1., 1.,  ..., 1., 1., 1.],\n",
       "          ...,\n",
       "          [1., 1., 1.,  ..., 1., 1., 1.],\n",
       "          [1., 1., 1.,  ..., 1., 1., 1.],\n",
       "          [1., 1., 1.,  ..., 1., 1., 1.]]]),\n",
       " 'label': tensor([ 5, 31, 20,  1,  5,  2, 14])}"
      ]
     },
     "execution_count": 53,
     "metadata": {},
     "output_type": "execute_result"
    }
   ],
   "source": [
    "train_dataset[0]"
   ]
  },
  {
   "cell_type": "code",
   "execution_count": 38,
   "id": "ad67157f-148f-46dc-94ef-92acd4b1c13f",
   "metadata": {},
   "outputs": [
    {
     "ename": "KeyError",
     "evalue": "'T'",
     "output_type": "error",
     "traceback": [
      "\u001b[31m---------------------------------------------------------------------------\u001b[39m",
      "\u001b[31mKeyError\u001b[39m                                  Traceback (most recent call last)",
      "\u001b[36mCell\u001b[39m\u001b[36m \u001b[39m\u001b[32mIn[38]\u001b[39m\u001b[32m, line 1\u001b[39m\n\u001b[32m----> \u001b[39m\u001b[32m1\u001b[39m \u001b[43mtrain_dataset\u001b[49m\u001b[43m[\u001b[49m\u001b[32;43m0\u001b[39;49m\u001b[43m]\u001b[49m\n",
      "\u001b[36mCell\u001b[39m\u001b[36m \u001b[39m\u001b[32mIn[29]\u001b[39m\u001b[32m, line 32\u001b[39m, in \u001b[36mImages_Dataset.__getitem__\u001b[39m\u001b[34m(self, idx)\u001b[39m\n\u001b[32m     27\u001b[39m \u001b[38;5;28;01mdef\u001b[39;00m\u001b[38;5;250m \u001b[39m\u001b[34m__getitem__\u001b[39m(\u001b[38;5;28mself\u001b[39m, idx):\n\u001b[32m     28\u001b[39m \n\u001b[32m     29\u001b[39m     \u001b[38;5;66;03m#with open(self.all_labels[idx],'r') as f: label=f.read().split(',')\u001b[39;00m\n\u001b[32m     30\u001b[39m     \u001b[38;5;28;01mreturn\u001b[39;00m {\n\u001b[32m     31\u001b[39m         \u001b[33m\"\u001b[39m\u001b[33mimg\u001b[39m\u001b[33m\"\u001b[39m:\u001b[38;5;28mself\u001b[39m.image_transforms(Image.open(\u001b[38;5;28mself\u001b[39m.all_data[idx])),\n\u001b[32m---> \u001b[39m\u001b[32m32\u001b[39m         \u001b[33m'\u001b[39m\u001b[33mlabel\u001b[39m\u001b[33m'\u001b[39m:tensor([\u001b[38;5;28;43mself\u001b[39;49m\u001b[43m.\u001b[49m\u001b[43mlet2int\u001b[49m\u001b[43m[\u001b[49m\u001b[43mlet\u001b[49m\u001b[43m]\u001b[49m \u001b[38;5;28;01mfor\u001b[39;00m let \u001b[38;5;129;01min\u001b[39;00m \u001b[38;5;28mself\u001b[39m.all_data[idx].split(\u001b[33m'\u001b[39m\u001b[33m_\u001b[39m\u001b[33m'\u001b[39m)[\u001b[32m0\u001b[39m].replace(\u001b[33m'\u001b[39m\u001b[33mdata/\u001b[39m\u001b[33m'\u001b[39m,\u001b[33m'\u001b[39m\u001b[33m'\u001b[39m)])\n\u001b[32m     33\u001b[39m     }\n",
      "\u001b[31mKeyError\u001b[39m: 'T'"
     ]
    }
   ],
   "source": [
    "train_dataset[0]"
   ]
  },
  {
   "cell_type": "code",
   "execution_count": 35,
   "id": "c8903e29-d39a-4048-b281-a12d1bcbd071",
   "metadata": {},
   "outputs": [
    {
     "ename": "KeyError",
     "evalue": "'T'",
     "output_type": "error",
     "traceback": [
      "\u001b[31m---------------------------------------------------------------------------\u001b[39m",
      "\u001b[31mKeyError\u001b[39m                                  Traceback (most recent call last)",
      "\u001b[36mCell\u001b[39m\u001b[36m \u001b[39m\u001b[32mIn[35]\u001b[39m\u001b[32m, line 1\u001b[39m\n\u001b[32m----> \u001b[39m\u001b[32m1\u001b[39m plt.imshow(\u001b[43mtrain_dataset\u001b[49m\u001b[43m[\u001b[49m\u001b[32;43m5\u001b[39;49m\u001b[43m]\u001b[49m[\u001b[33m'\u001b[39m\u001b[33mimg\u001b[39m\u001b[33m'\u001b[39m].numpy().transpose(\u001b[32m1\u001b[39m,\u001b[32m2\u001b[39m,\u001b[32m0\u001b[39m))\n",
      "\u001b[36mCell\u001b[39m\u001b[36m \u001b[39m\u001b[32mIn[29]\u001b[39m\u001b[32m, line 32\u001b[39m, in \u001b[36mImages_Dataset.__getitem__\u001b[39m\u001b[34m(self, idx)\u001b[39m\n\u001b[32m     27\u001b[39m \u001b[38;5;28;01mdef\u001b[39;00m\u001b[38;5;250m \u001b[39m\u001b[34m__getitem__\u001b[39m(\u001b[38;5;28mself\u001b[39m, idx):\n\u001b[32m     28\u001b[39m \n\u001b[32m     29\u001b[39m     \u001b[38;5;66;03m#with open(self.all_labels[idx],'r') as f: label=f.read().split(',')\u001b[39;00m\n\u001b[32m     30\u001b[39m     \u001b[38;5;28;01mreturn\u001b[39;00m {\n\u001b[32m     31\u001b[39m         \u001b[33m\"\u001b[39m\u001b[33mimg\u001b[39m\u001b[33m\"\u001b[39m:\u001b[38;5;28mself\u001b[39m.image_transforms(Image.open(\u001b[38;5;28mself\u001b[39m.all_data[idx])),\n\u001b[32m---> \u001b[39m\u001b[32m32\u001b[39m         \u001b[33m'\u001b[39m\u001b[33mlabel\u001b[39m\u001b[33m'\u001b[39m:tensor([\u001b[38;5;28;43mself\u001b[39;49m\u001b[43m.\u001b[49m\u001b[43mlet2int\u001b[49m\u001b[43m[\u001b[49m\u001b[43mlet\u001b[49m\u001b[43m]\u001b[49m \u001b[38;5;28;01mfor\u001b[39;00m let \u001b[38;5;129;01min\u001b[39;00m \u001b[38;5;28mself\u001b[39m.all_data[idx].split(\u001b[33m'\u001b[39m\u001b[33m_\u001b[39m\u001b[33m'\u001b[39m)[\u001b[32m0\u001b[39m].replace(\u001b[33m'\u001b[39m\u001b[33mdata/\u001b[39m\u001b[33m'\u001b[39m,\u001b[33m'\u001b[39m\u001b[33m'\u001b[39m)])\n\u001b[32m     33\u001b[39m     }\n",
      "\u001b[31mKeyError\u001b[39m: 'T'"
     ]
    }
   ],
   "source": [
    "plt.imshow(train_dataset[5]['img'].numpy().transpose(1,2,0))"
   ]
  },
  {
   "cell_type": "code",
   "execution_count": 32,
   "id": "84ebf25a-d340-40b7-9261-dd8ae8db919f",
   "metadata": {},
   "outputs": [
    {
     "data": {
      "text/plain": [
       "['ь', 'и', 'ё', 'г', 'г', 'н', 'б']"
      ]
     },
     "execution_count": 32,
     "metadata": {},
     "output_type": "execute_result"
    }
   ],
   "source": [
    "[int2let[i.item()] for i in train_dataset[5]['label']]"
   ]
  },
  {
   "cell_type": "code",
   "execution_count": 33,
   "id": "e91a24f2-be44-4845-a366-695a5907deec",
   "metadata": {},
   "outputs": [],
   "source": [
    "alphabet=[symb for symb in 'абвгдеёжзийклмнопрстуфхцчшщъыьэюя ']\n",
    "\n",
    "let2int={let:i for i,let in enumerate(alphabet)}\n",
    "int2let={i:let for i,let in enumerate(alphabet)}\n",
    "vocab={'let2int':let2int,'int2let':int2let}"
   ]
  },
  {
   "cell_type": "code",
   "execution_count": 11,
   "id": "53f53bc7-2aca-4dd2-9c5c-e3d0e41232cf",
   "metadata": {},
   "outputs": [
    {
     "data": {
      "text/plain": [
       "{0: 'а',\n",
       " 1: 'б',\n",
       " 2: 'в',\n",
       " 3: 'г',\n",
       " 4: 'д',\n",
       " 5: 'е',\n",
       " 6: 'ё',\n",
       " 7: 'ж',\n",
       " 8: 'з',\n",
       " 9: 'и',\n",
       " 10: 'й',\n",
       " 11: 'к',\n",
       " 12: 'л',\n",
       " 13: 'м',\n",
       " 14: 'н',\n",
       " 15: 'о',\n",
       " 16: 'п',\n",
       " 17: 'р',\n",
       " 18: 'с',\n",
       " 19: 'т',\n",
       " 20: 'у',\n",
       " 21: 'ф',\n",
       " 22: 'х',\n",
       " 23: 'ц',\n",
       " 24: 'ч',\n",
       " 25: 'ш',\n",
       " 26: 'щ',\n",
       " 27: 'ъ',\n",
       " 28: 'ы',\n",
       " 29: 'ь',\n",
       " 30: 'э',\n",
       " 31: 'ю',\n",
       " 32: 'я',\n",
       " 33: ' '}"
      ]
     },
     "execution_count": 11,
     "metadata": {},
     "output_type": "execute_result"
    }
   ],
   "source": [
    "int2let"
   ]
  },
  {
   "cell_type": "code",
   "execution_count": 12,
   "id": "d56f1973-9635-4229-8c9f-590a0db3a164",
   "metadata": {},
   "outputs": [
    {
     "data": {
      "text/plain": [
       "{'а': 0,\n",
       " 'б': 1,\n",
       " 'в': 2,\n",
       " 'г': 3,\n",
       " 'д': 4,\n",
       " 'е': 5,\n",
       " 'ё': 6,\n",
       " 'ж': 7,\n",
       " 'з': 8,\n",
       " 'и': 9,\n",
       " 'й': 10,\n",
       " 'к': 11,\n",
       " 'л': 12,\n",
       " 'м': 13,\n",
       " 'н': 14,\n",
       " 'о': 15,\n",
       " 'п': 16,\n",
       " 'р': 17,\n",
       " 'с': 18,\n",
       " 'т': 19,\n",
       " 'у': 20,\n",
       " 'ф': 21,\n",
       " 'х': 22,\n",
       " 'ц': 23,\n",
       " 'ч': 24,\n",
       " 'ш': 25,\n",
       " 'щ': 26,\n",
       " 'ъ': 27,\n",
       " 'ы': 28,\n",
       " 'ь': 29,\n",
       " 'э': 30,\n",
       " 'ю': 31,\n",
       " 'я': 32,\n",
       " ' ': 33}"
      ]
     },
     "execution_count": 12,
     "metadata": {},
     "output_type": "execute_result"
    }
   ],
   "source": [
    "let2int"
   ]
  },
  {
   "cell_type": "code",
   "execution_count": null,
   "id": "7c568f33-8c70-451e-be45-d53ecbe8d8ad",
   "metadata": {},
   "outputs": [],
   "source": []
  }
 ],
 "metadata": {
  "kernelspec": {
   "display_name": "Python 3 (ipykernel)",
   "language": "python",
   "name": "python3"
  },
  "language_info": {
   "codemirror_mode": {
    "name": "ipython",
    "version": 3
   },
   "file_extension": ".py",
   "mimetype": "text/x-python",
   "name": "python",
   "nbconvert_exporter": "python",
   "pygments_lexer": "ipython3",
   "version": "3.13.3"
  }
 },
 "nbformat": 4,
 "nbformat_minor": 5
}
