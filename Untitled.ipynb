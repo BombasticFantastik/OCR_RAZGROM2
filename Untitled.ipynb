{
 "cells": [
  {
   "cell_type": "code",
   "execution_count": 4,
   "id": "6bdc9dfc-2113-44ff-931f-406169306e95",
   "metadata": {},
   "outputs": [],
   "source": [
    "from torch.utils.data import Dataset\n",
    "from os import listdir\n",
    "from os.path import join\n",
    "from PIL import Image\n",
    "from torchvision import transforms\n",
    "from sklearn.preprocessing import LabelBinarizer\n",
    "\n",
    "class Images_Dataset(Dataset):\n",
    "    def __init__(self,\n",
    "                 path,\n",
    "                 transforms=transforms.Compose([\n",
    "        transforms.Resize((256,256))\n",
    "        ,transforms.ToTensor()\n",
    "        ])\n",
    "        \n",
    "        ):\n",
    "        super(Images_Dataset,self).__init__()\n",
    "        self.data_path=f'{path}/data'\n",
    "        self.label_path=f'{path}/labels'\n",
    "        self.croped_images_path=f'{path}/croped_images'\n",
    "        self.image_transforms=transforms\n",
    "\n",
    "        #self.data_dirs=listdir(self.data_path)\n",
    "        #self.data_dirs=listdir(self.label_path)\n",
    "        self.all_data=[join(self.data_path,item) for item in listdir(self.data_path)]\n",
    "        self.all_croped_images=[join(self.croped_images_path,item) for item in listdir(self.croped_images_path)]\n",
    "        self.all_labels=[join(self.label_path,item) for item in listdir(self.label_path)]\n",
    "\n",
    "    def __len__(self):\n",
    "        return len(self.all_data)\n",
    "\n",
    "    def __getitem__(self, idx):\n",
    "        return {\n",
    "            'data':self.image_transforms(Image.open(self.all_data[idx])),\n",
    "            'crop_image':self.image_transforms(Image.open(self.all_croped_images[idx])),\n",
    "            'label':open(self.all_labels[idx],'r').split(',')\n",
    "        }\n",
    "    \n",
    "\n",
    "\n",
    "dataset=Images_Dataset('/home/artemybombastic/ArtemyBombasticGit/OCR_RAZGROM2/images/comic_sans/')\n",
    "\n",
    "\n",
    "\n"
   ]
  },
  {
   "cell_type": "code",
   "execution_count": 41,
   "id": "bbe2e0f8-daa7-4294-8628-bd3f87b78a8f",
   "metadata": {},
   "outputs": [],
   "source": [
    "from torchvision import transforms"
   ]
  },
  {
   "cell_type": "code",
   "execution_count": 6,
   "id": "836f494f-dd39-44fb-9c85-b1167bd5f088",
   "metadata": {},
   "outputs": [],
   "source": [
    "path='/home/artemybombastic/ArtemyBombasticGit/OCR_RAZGROM2/images/comic_sans//labels/tnucl.txt'"
   ]
  },
  {
   "cell_type": "code",
   "execution_count": 21,
   "id": "4dbb7308-5de4-4d64-a696-5e9786e44cd1",
   "metadata": {},
   "outputs": [
    {
     "name": "stdout",
     "output_type": "stream",
     "text": [
      "745,100,925,180\n"
     ]
    }
   ],
   "source": [
    "with open(path,'r') as f:\n",
    "    print(f.read())"
   ]
  },
  {
   "cell_type": "code",
   "execution_count": 16,
   "id": "7d708f6b-99d4-45b4-a5a0-402730d75a87",
   "metadata": {},
   "outputs": [
    {
     "name": "stdout",
     "output_type": "stream",
     "text": [
      "745,100,925,180\n"
     ]
    }
   ],
   "source": [
    "print(*a)"
   ]
  },
  {
   "cell_type": "code",
   "execution_count": 46,
   "id": "b07781b8-01e7-4756-857b-9d55cc1d6252",
   "metadata": {},
   "outputs": [],
   "source": [
    "transforms=transforms.Compose([\n",
    "    transforms.Resize((256,256)),\n",
    "    transforms.ToTensor()\n",
    "])"
   ]
  },
  {
   "cell_type": "code",
   "execution_count": 1,
   "id": "f459939c-53ea-439b-91a1-2d147e416a47",
   "metadata": {},
   "outputs": [
    {
     "data": {
      "text/plain": [
       "['as', 'dsad']"
      ]
     },
     "execution_count": 1,
     "metadata": {},
     "output_type": "execute_result"
    }
   ],
   "source": [
    "LabelBinarizer("
   ]
  },
  {
   "cell_type": "code",
   "execution_count": null,
   "id": "e9d7013d-f455-4f4c-9486-4100895cfc5f",
   "metadata": {},
   "outputs": [],
   "source": []
  }
 ],
 "metadata": {
  "kernelspec": {
   "display_name": "Python 3 (ipykernel)",
   "language": "python",
   "name": "python3"
  },
  "language_info": {
   "codemirror_mode": {
    "name": "ipython",
    "version": 3
   },
   "file_extension": ".py",
   "mimetype": "text/x-python",
   "name": "python",
   "nbconvert_exporter": "python",
   "pygments_lexer": "ipython3",
   "version": "3.13.2"
  }
 },
 "nbformat": 4,
 "nbformat_minor": 5
}
