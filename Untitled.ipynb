{
 "cells": [
  {
   "cell_type": "code",
   "execution_count": 27,
   "id": "6bdc9dfc-2113-44ff-931f-406169306e95",
   "metadata": {},
   "outputs": [],
   "source": [
    "class Images_Dataset(Dataset):\n",
    "    def __init__(self,path):\n",
    "        super(Images_Dataset,self).__init__()\n",
    "        self.data_path=f'{path}/data'\n",
    "        self.label_path=f'{path}/labels'\n",
    "\n",
    "        #self.data_dirs=listdir(self.data_path)\n",
    "        #self.data_dirs=listdir(self.label_path)\n",
    "        self.all_data=[join(self.data_path,item) for item in listdir(self.data_path)]\n",
    "        self.all_labels=[join(self.label_path,item) for item in listdir(self.label_path)]\n",
    "\n",
    "    def __len__(self):\n",
    "        return len(self.all_data)\n",
    "\n",
    "    def __getitem__(self, idx):\n",
    "        return {\n",
    "            'data':Image.open(self.all_data[idx]),\n",
    "            'label':Image.open(self.all_labels[idx])\n",
    "        }\n",
    "    "
   ]
  },
  {
   "cell_type": "code",
   "execution_count": 28,
   "id": "9d78cd71-db6e-4d6b-a606-3f6cbfca7b4d",
   "metadata": {},
   "outputs": [],
   "source": [
    "dataset=Images_Dataset('/home/artemybombastic/ArtemyBombasticGit/OCR_RAZGROM2/images/comic_sans/')\n"
   ]
  },
  {
   "cell_type": "code",
   "execution_count": 41,
   "id": "bbe2e0f8-daa7-4294-8628-bd3f87b78a8f",
   "metadata": {},
   "outputs": [],
   "source": [
    "from torchvision import transforms"
   ]
  },
  {
   "cell_type": "code",
   "execution_count": 42,
   "id": "7d708f6b-99d4-45b4-a5a0-402730d75a87",
   "metadata": {},
   "outputs": [
    {
     "ename": "RuntimeError",
     "evalue": "Could not infer dtype of PngImageFile",
     "output_type": "error",
     "traceback": [
      "\u001b[31m---------------------------------------------------------------------------\u001b[39m",
      "\u001b[31mRuntimeError\u001b[39m                              Traceback (most recent call last)",
      "\u001b[36mCell\u001b[39m\u001b[36m \u001b[39m\u001b[32mIn[42]\u001b[39m\u001b[32m, line 1\u001b[39m\n\u001b[32m----> \u001b[39m\u001b[32m1\u001b[39m \u001b[43mtensor\u001b[49m\u001b[43m(\u001b[49m\u001b[43mdataset\u001b[49m\u001b[43m[\u001b[49m\u001b[32;43m6\u001b[39;49m\u001b[43m]\u001b[49m\u001b[43m[\u001b[49m\u001b[33;43m'\u001b[39;49m\u001b[33;43mlabel\u001b[39;49m\u001b[33;43m'\u001b[39;49m\u001b[43m]\u001b[49m\u001b[43m)\u001b[49m\n",
      "\u001b[31mRuntimeError\u001b[39m: Could not infer dtype of PngImageFile"
     ]
    }
   ],
   "source": [
    "tensor(dataset[6]['label'])"
   ]
  },
  {
   "cell_type": "code",
   "execution_count": 46,
   "id": "b07781b8-01e7-4756-857b-9d55cc1d6252",
   "metadata": {},
   "outputs": [],
   "source": [
    "transforms=transforms.Compose([\n",
    "    transforms.Resize((256,256)),\n",
    "    transforms.ToTensor()\n",
    "])"
   ]
  },
  {
   "cell_type": "code",
   "execution_count": null,
   "id": "f459939c-53ea-439b-91a1-2d147e416a47",
   "metadata": {},
   "outputs": [],
   "source": []
  }
 ],
 "metadata": {
  "kernelspec": {
   "display_name": "Python 3 (ipykernel)",
   "language": "python",
   "name": "python3"
  },
  "language_info": {
   "codemirror_mode": {
    "name": "ipython",
    "version": 3
   },
   "file_extension": ".py",
   "mimetype": "text/x-python",
   "name": "python",
   "nbconvert_exporter": "python",
   "pygments_lexer": "ipython3",
   "version": "3.13.2"
  }
 },
 "nbformat": 4,
 "nbformat_minor": 5
}
